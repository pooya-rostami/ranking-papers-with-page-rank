{
 "cells": [
  {
   "cell_type": "code",
   "execution_count": 1,
   "metadata": {},
   "outputs": [],
   "source": [
    "import pandas as pd\n",
    "import numpy as np\n",
    "import networkx as nx"
   ]
  },
  {
   "cell_type": "code",
   "execution_count": 2,
   "metadata": {},
   "outputs": [
    {
     "name": "stdout",
     "output_type": "stream",
     "text": [
      "+--------------------+--------------------+--------------------+--------------------+-------------+-------------+-----+----------+---------------------+--------------------+\n",
      "|            abstract|             authors|           citations|          co-authors|creation_date|free_keywords|recid|references|standardized_keywords|               title|\n",
      "+--------------------+--------------------+--------------------+--------------------+-------------+-------------+-----+----------+---------------------+--------------------+\n",
      "|Introduction Part...|   [Wong, Yung-Chow]|[452267, 1520868,...|                  []|         1961|           []|    1|        []|                   []|Isoclinic N plane...|\n",
      "|                    |   [Breymayer, K.E.]|                  []|[Mallory, Kenneth...|      1963-03|           []|   17|        []|                   []|SYSTEM INTERCONNE...|\n",
      "|                    |[Johnston, Lawren...|           [1374812]|[Murray, Joseph J...|      1977-08|           []|   18|   [48647]|                   []|A target beam mon...|\n",
      "|                    |       [Muray, J.J.]|  [1193744, 1320713]|                  []|      1963-06|           []|   20|        []|                   []|IRRADIATION OF A ...|\n",
      "|                    | [Mozley, Robert F.]|                  []|                  []|      1963-08|           []|   23|        []|                   []|PROPOSAL FOR A LA...|\n",
      "|                    | [Vakhrushin, Yu.P.]|                  []|      [Ryabov, V.V.]|         1977|           []|   24|        []|                   []|Study of electron...|\n",
      "|                    |  [Miller, Roger H.]|            [322667]|                  []|      1963-08|           []|   25|        []|                   []|PROPOSED BUNCH MO...|\n",
      "|                    |                  []|            [899865]|                  []|         1977|           []|   26|        []|                   []|withdrawn or canc...|\n",
      "|                    |                  []|  [1208691, 1322317]|                  []|         1977|           []|   27|        []|                   []|withdrawn or canc...|\n",
      "|                    |  [Helm, Richard H.]|           [1760663]|                  []|      1963-06|           []|   28|        []|                   []|CALCULATIONS ON C...|\n",
      "|                    |                  []|                  []|                  []|         1977|           []|   29|        []|                   []|withdrawn or canc...|\n",
      "|                    |                  []|                  []|                  []|         1977|           []|   30|        []|                   []|withdrawn or canc...|\n",
      "|                    |[Mallory, Kenneth...|                  []|                  []|      1963-06|           []|   31|        []|                   []|USE OF MODULATOR ...|\n",
      "|                    |  [DeStaebler, H.C.]|[1244602, 1403659...|                  []|      1963-07|           []|   32|        []|                   []|NOTE ON PANOFSKY'...|\n",
      "|                    |                  []|                  []|                  []|         1977|           []|   33|        []|                   []|withdrawn or canc...|\n",
      "|                    |       [Muray, J.J.]|  [1412440, 1479801]|[Scholl, Richard A.]|      1964-02|           []|   34|        []|                   []|DYNAMIC FIELD MEA...|\n",
      "|                    |                  []|           [1409385]|                  []|         1977|           []|   35|        []|                   []|withdrawn or canc...|\n",
      "|                    | [Garwin, Edward L.]|            [564655]|                  []|      1963-04|           []|   36|        []|                   []|BEAM STOPPERS - 1...|\n",
      "|                    |     [Trigger, K.R.]|           [1208630]|                  []|      1963-05|           []|   37|        []|                   []|THERMALLY INDUCED...|\n",
      "|                    |         [Hedin, B.]|            [218186]|                  []|      1963-02|           []|   38|        []|                   []|PRELIMINARY CALCU...|\n",
      "+--------------------+--------------------+--------------------+--------------------+-------------+-------------+-----+----------+---------------------+--------------------+\n",
      "only showing top 20 rows\n",
      "\n"
     ]
    }
   ],
   "source": [
    "from pyspark.sql import SparkSession\n",
    "from pyspark.sql.types import ArrayType, StructField, StructType, StringType, IntegerType\n",
    "from pyspark import SparkContext\n",
    "from pyspark.sql import SQLContext\n",
    "from pyspark.sql.functions import *\n",
    "\n",
    "appName = \"papers page rank\"\n",
    "master = \"local\"\n",
    "\n",
    "# Create Spark session\n",
    "spark = SparkSession.builder \\\n",
    "    .appName(appName) \\\n",
    "    .master(master) \\\n",
    "    .getOrCreate()\n",
    "\n",
    "df = spark.read.json('hep_records.json')\n",
    "df.show()"
   ]
  },
  {
   "cell_type": "code",
   "execution_count": 3,
   "metadata": {},
   "outputs": [
    {
     "data": {
      "text/plain": [
       "1356014"
      ]
     },
     "execution_count": 3,
     "metadata": {},
     "output_type": "execute_result"
    }
   ],
   "source": [
    "df.count()"
   ]
  },
  {
   "cell_type": "code",
   "execution_count": 4,
   "metadata": {},
   "outputs": [
    {
     "data": {
      "text/plain": [
       "DataFrame[abstract: string, authors: array<string>, citations: array<bigint>, co-authors: array<string>, creation_date: string, free_keywords: array<string>, recid: bigint, references: array<bigint>, standardized_keywords: array<string>, title: string]"
      ]
     },
     "execution_count": 4,
     "metadata": {},
     "output_type": "execute_result"
    }
   ],
   "source": [
    "from pyspark.sql.functions import size\n",
    "df = df.filter(size('references') > 0)\n",
    "df = df.filter(size('citations') > 0)\n",
    "df = df.filter(size('authors') > 0)\n",
    "df"
   ]
  },
  {
   "cell_type": "code",
   "execution_count": 5,
   "metadata": {},
   "outputs": [
    {
     "data": {
      "text/plain": [
       "745143"
      ]
     },
     "execution_count": 5,
     "metadata": {},
     "output_type": "execute_result"
    }
   ],
   "source": [
    "df.count()"
   ]
  },
  {
   "cell_type": "code",
   "execution_count": 6,
   "metadata": {},
   "outputs": [
    {
     "name": "stdout",
     "output_type": "stream",
     "text": [
      "+--------------------+--------------------+--------------------+--------------------+-------------+-------------+-----+--------------------+---------------------+--------------------+\n",
      "|            abstract|             authors|           citations|          co-authors|creation_date|free_keywords|recid|          references|standardized_keywords|               title|\n",
      "+--------------------+--------------------+--------------------+--------------------+-------------+-------------+-----+--------------------+---------------------+--------------------+\n",
      "|                    |[Johnston, Lawren...|           [1374812]|[Murray, Joseph J...|      1977-08|           []|   18|             [48647]|                   []|A target beam mon...|\n",
      "|Critical examinat...|   [Noyes, H.Pierre]|[107392, 48129, 7...|                  []|         1963|           []|   51|[47202, 43619, 47...|                   []|Neutron-Proton Sc...|\n",
      "|                    |      [Berman, S.M.]|[779968, 89700, 5...|       [Drell, S.D.]|         1963|           []|   55|           [1475824]|                   []|Coherent Producti...|\n",
      "|Various approxima...|      [Berman, S.M.]|[1431040, 60929, ...|       [Drell, S.D.]|      1963-08|           []|   61|[46912, 46531, 16...|                   []|SPECULATIONS ON T...|\n",
      "|                    |      [Berman, S.M.]|[89093, 80998, 37...|     [Tsai, Yung-Su]|      1963-10|           []|   63|[47712, 21794, 47...|                   []|INTERMEDIATE BOSO...|\n",
      "|The first‐ and se...|    [Brown, Karl L.]|[64130, 48747, 18...|[Belbeoch, R., Bo...|      1964-01|           []|   64|           [1406076]|                   []|FIRST AND SECOND ...|\n",
      "|It is known that ...|       [Drell, S.D.]|[62977, 54786, 54...|     [Walecka, J.D.]|      1963-11|           []|   65|       [9388, 48446]|                   []|Electrodynamic Pr...|\n",
      "|A precise evaluat...|     [Bander, Myron]|[60800, 75010, 14...|                  []|      1964-01|           []|   67|[1476836, 47206, ...|                   []|LOW-ENERGY NEUTRO...|\n",
      "|                    |   [Noyes, H.Pierre]|[48129, 1432454, ...|                  []|      1963-12|           []|   68|[1669570, 43619, ...|                   []|DETERMINATION OF ...|\n",
      "|A simple and gene...|      [Berman, S.M.]|[50880, 132256, 1...|  [Oakes, Robert J.]|      1964-03|           []|   69|[21798, 47790, 13...|                   []|ANGULAR CORRELATI...|\n",
      "|Gauge invariance ...|      [Berman, S.M.]|[48739, 75280, 38...|                  []|      1964-03|           []|   70|[44378, 9019, 938...|                   []|UNIFICATION OF PH...|\n",
      "|Experimental meas...|         [Maor, Uri]|[52312, 82552, 67...|                  []|      1964-04|           []|   72|[9315, 46801, 469...|                   []|ESTIMATIONS OF HI...|\n",
      "|                    |     [Bell, John S.]|[70016, 888525, 2...|                  []|      1964-05|           []|   74|[45880, 430979, 4...| [neutrino nucleus...|NUCLEAR OPTICAL M...|\n",
      "|                    |  [Adler, Ronald J.]|[93313, 100738, 4...|       [Drell, S.D.]|      1964-06|           []|   75|[899012, 48485, 4...|                   []|MESON EXCHANGE EF...|\n",
      "|                    |[Thiebaux, Martia...|[52364, 46884, 13...|                  []|      1964-05|           []|   76|[9315, 46891, 467...|                   []|OFF-SHELL CORRECT...|\n",
      "|                    |       [Drell, S.D.]|[1669339, 1309004...|                  []|      1964-06|           []|   77|[65, 48456, 40203...|                   []|ASYMMETRIC mu PAI...|\n",
      "|The possible cont...|      [Berman, S.M.]|[61224, 52425, 67...|         [Maor, Uri]|      1964-07|           []|   80|         [65, 14596]|                   []|EFFECTS OF THE rh...|\n",
      "|We construct seve...|       [Drell, S.D.]|[55488, 74689, 48...|[Finn, Albert C.,...|      1964-07|           []|   81|[1473984, 40929, ...|                   []|BOUNDS ON PROPAGA...|\n",
      "|High-energy elast...|   [Woo, Ching-Hung]|                [98]|                  []|      1964-08|           []|   83|[40819, 1403015, ...|                   []|HIGH-ENERGY ELAST...|\n",
      "|                    |     [Bell, John S.]|[339204, 51462, 3...|     [Perring, J.K.]|      1964-08|           []|   84|[942936, 46830, 1...| [K0: hadronic dec...|ON THE 2 pi DECAY...|\n",
      "+--------------------+--------------------+--------------------+--------------------+-------------+-------------+-----+--------------------+---------------------+--------------------+\n",
      "only showing top 20 rows\n",
      "\n"
     ]
    }
   ],
   "source": [
    "df.show()"
   ]
  },
  {
   "cell_type": "code",
   "execution_count": 7,
   "metadata": {},
   "outputs": [],
   "source": [
    "columns_to_drop = ['free_keywords', 'standardized_keywords', 'abstract', 'co-authors']\n",
    "df = df.drop(*columns_to_drop)"
   ]
  },
  {
   "cell_type": "code",
   "execution_count": 8,
   "metadata": {},
   "outputs": [
    {
     "name": "stdout",
     "output_type": "stream",
     "text": [
      "+--------------------+--------------------+-------------+-----+--------------------+--------------------+\n",
      "|             authors|           citations|creation_date|recid|          references|               title|\n",
      "+--------------------+--------------------+-------------+-----+--------------------+--------------------+\n",
      "|[Johnston, Lawren...|           [1374812]|      1977-08|   18|             [48647]|A target beam mon...|\n",
      "|   [Noyes, H.Pierre]|[107392, 48129, 7...|         1963|   51|[47202, 43619, 47...|Neutron-Proton Sc...|\n",
      "|      [Berman, S.M.]|[779968, 89700, 5...|         1963|   55|           [1475824]|Coherent Producti...|\n",
      "|      [Berman, S.M.]|[1431040, 60929, ...|      1963-08|   61|[46912, 46531, 16...|SPECULATIONS ON T...|\n",
      "|      [Berman, S.M.]|[89093, 80998, 37...|      1963-10|   63|[47712, 21794, 47...|INTERMEDIATE BOSO...|\n",
      "|    [Brown, Karl L.]|[64130, 48747, 18...|      1964-01|   64|           [1406076]|FIRST AND SECOND ...|\n",
      "|       [Drell, S.D.]|[62977, 54786, 54...|      1963-11|   65|       [9388, 48446]|Electrodynamic Pr...|\n",
      "|     [Bander, Myron]|[60800, 75010, 14...|      1964-01|   67|[1476836, 47206, ...|LOW-ENERGY NEUTRO...|\n",
      "|   [Noyes, H.Pierre]|[48129, 1432454, ...|      1963-12|   68|[1669570, 43619, ...|DETERMINATION OF ...|\n",
      "|      [Berman, S.M.]|[50880, 132256, 1...|      1964-03|   69|[21798, 47790, 13...|ANGULAR CORRELATI...|\n",
      "|      [Berman, S.M.]|[48739, 75280, 38...|      1964-03|   70|[44378, 9019, 938...|UNIFICATION OF PH...|\n",
      "|         [Maor, Uri]|[52312, 82552, 67...|      1964-04|   72|[9315, 46801, 469...|ESTIMATIONS OF HI...|\n",
      "|     [Bell, John S.]|[70016, 888525, 2...|      1964-05|   74|[45880, 430979, 4...|NUCLEAR OPTICAL M...|\n",
      "|  [Adler, Ronald J.]|[93313, 100738, 4...|      1964-06|   75|[899012, 48485, 4...|MESON EXCHANGE EF...|\n",
      "|[Thiebaux, Martia...|[52364, 46884, 13...|      1964-05|   76|[9315, 46891, 467...|OFF-SHELL CORRECT...|\n",
      "|       [Drell, S.D.]|[1669339, 1309004...|      1964-06|   77|[65, 48456, 40203...|ASYMMETRIC mu PAI...|\n",
      "|      [Berman, S.M.]|[61224, 52425, 67...|      1964-07|   80|         [65, 14596]|EFFECTS OF THE rh...|\n",
      "|       [Drell, S.D.]|[55488, 74689, 48...|      1964-07|   81|[1473984, 40929, ...|BOUNDS ON PROPAGA...|\n",
      "|   [Woo, Ching-Hung]|                [98]|      1964-08|   83|[40819, 1403015, ...|HIGH-ENERGY ELAST...|\n",
      "|     [Bell, John S.]|[339204, 51462, 3...|      1964-08|   84|[942936, 46830, 1...|ON THE 2 pi DECAY...|\n",
      "+--------------------+--------------------+-------------+-----+--------------------+--------------------+\n",
      "only showing top 20 rows\n",
      "\n"
     ]
    }
   ],
   "source": [
    "df.show()"
   ]
  },
  {
   "cell_type": "code",
   "execution_count": 9,
   "metadata": {},
   "outputs": [],
   "source": [
    "from pyspark.sql.functions import split\n",
    "split_col = split(df['creation_date'], '-')\n",
    "df = df.withColumn('creation_date', split_col.getItem(0))"
   ]
  },
  {
   "cell_type": "code",
   "execution_count": 10,
   "metadata": {},
   "outputs": [
    {
     "name": "stdout",
     "output_type": "stream",
     "text": [
      "+--------------------+--------------------+-------------+-----+--------------------+--------------------+\n",
      "|             authors|           citations|creation_date|recid|          references|               title|\n",
      "+--------------------+--------------------+-------------+-----+--------------------+--------------------+\n",
      "|[Johnston, Lawren...|           [1374812]|         1977|   18|             [48647]|A target beam mon...|\n",
      "|   [Noyes, H.Pierre]|[107392, 48129, 7...|         1963|   51|[47202, 43619, 47...|Neutron-Proton Sc...|\n",
      "|      [Berman, S.M.]|[779968, 89700, 5...|         1963|   55|           [1475824]|Coherent Producti...|\n",
      "|      [Berman, S.M.]|[1431040, 60929, ...|         1963|   61|[46912, 46531, 16...|SPECULATIONS ON T...|\n",
      "|      [Berman, S.M.]|[89093, 80998, 37...|         1963|   63|[47712, 21794, 47...|INTERMEDIATE BOSO...|\n",
      "|    [Brown, Karl L.]|[64130, 48747, 18...|         1964|   64|           [1406076]|FIRST AND SECOND ...|\n",
      "|       [Drell, S.D.]|[62977, 54786, 54...|         1963|   65|       [9388, 48446]|Electrodynamic Pr...|\n",
      "|     [Bander, Myron]|[60800, 75010, 14...|         1964|   67|[1476836, 47206, ...|LOW-ENERGY NEUTRO...|\n",
      "|   [Noyes, H.Pierre]|[48129, 1432454, ...|         1963|   68|[1669570, 43619, ...|DETERMINATION OF ...|\n",
      "|      [Berman, S.M.]|[50880, 132256, 1...|         1964|   69|[21798, 47790, 13...|ANGULAR CORRELATI...|\n",
      "|      [Berman, S.M.]|[48739, 75280, 38...|         1964|   70|[44378, 9019, 938...|UNIFICATION OF PH...|\n",
      "|         [Maor, Uri]|[52312, 82552, 67...|         1964|   72|[9315, 46801, 469...|ESTIMATIONS OF HI...|\n",
      "|     [Bell, John S.]|[70016, 888525, 2...|         1964|   74|[45880, 430979, 4...|NUCLEAR OPTICAL M...|\n",
      "|  [Adler, Ronald J.]|[93313, 100738, 4...|         1964|   75|[899012, 48485, 4...|MESON EXCHANGE EF...|\n",
      "|[Thiebaux, Martia...|[52364, 46884, 13...|         1964|   76|[9315, 46891, 467...|OFF-SHELL CORRECT...|\n",
      "|       [Drell, S.D.]|[1669339, 1309004...|         1964|   77|[65, 48456, 40203...|ASYMMETRIC mu PAI...|\n",
      "|      [Berman, S.M.]|[61224, 52425, 67...|         1964|   80|         [65, 14596]|EFFECTS OF THE rh...|\n",
      "|       [Drell, S.D.]|[55488, 74689, 48...|         1964|   81|[1473984, 40929, ...|BOUNDS ON PROPAGA...|\n",
      "|   [Woo, Ching-Hung]|                [98]|         1964|   83|[40819, 1403015, ...|HIGH-ENERGY ELAST...|\n",
      "|     [Bell, John S.]|[339204, 51462, 3...|         1964|   84|[942936, 46830, 1...|ON THE 2 pi DECAY...|\n",
      "+--------------------+--------------------+-------------+-----+--------------------+--------------------+\n",
      "only showing top 20 rows\n",
      "\n"
     ]
    }
   ],
   "source": [
    "df.show()"
   ]
  },
  {
   "cell_type": "code",
   "execution_count": 11,
   "metadata": {},
   "outputs": [
    {
     "name": "stdin",
     "output_type": "stream",
     "text": [
      "from the year:  2000\n",
      "to the year:  2001\n"
     ]
    }
   ],
   "source": [
    "from_year = input(\"from the year: \")\n",
    "to_year = input(\"to the year: \") "
   ]
  },
  {
   "cell_type": "code",
   "execution_count": 12,
   "metadata": {
    "scrolled": true
   },
   "outputs": [
    {
     "name": "stdout",
     "output_type": "stream",
     "text": [
      "+--------------------+--------------------+-------------+------+--------------------+--------------------+\n",
      "|             authors|           citations|creation_date| recid|          references|               title|\n",
      "+--------------------+--------------------+-------------+------+--------------------+--------------------+\n",
      "|[Joglekar, Satish...|[552878, 623944, ...|         2000| 42490|[439939, 110023, ...|Understanding of ...|\n",
      "|[Steinmetz, Matth...|[825312, 660177, ...|         2000| 42492|[413185, 518914, ...|Numerical simulat...|\n",
      "|     [Schmelzer, I.]|[1664417, 750341,...|         2000| 42497|[467969, 844651, ...|General Ether Theory|\n",
      "|       [Fiorini, E.]|[551736, 636649, ...|         2000| 42498|[429473, 429192, ...|Weak interaction ...|\n",
      "|          [Hall, G.]|[1635195, 688045,...|         2000| 42499|[536323, 876390, ...|LHC front end ele...|\n",
      "|        [Duflot, V.]|            [533188]|         2000| 42501|[1457829, 464028,...|Role of the surfa...|\n",
      "|     [Garnett, D.R.]|[603137, 575554, ...|         2000| 42505|[425984, 390657, ...|Distance dependen...|\n",
      "|  [Nakagawa, Masami]|[844328, 763385, ...|         2000| 42517|[39553, 393994, 2...|Kaon electromagne...|\n",
      "|         [Ellis, N.]|    [817396, 640518]|         2000| 42551|[480267, 508100, ...|B physics in the ...|\n",
      "|     [Connes, Alain]|[552962, 611844, ...|         2001|163205|            [158214]|C* algebras and d...|\n",
      "|      [Weekes, T.C.]|[668137, 541809, ...|         2000|444504|[387726, 386309, ...|VERITAS: Very ene...|\n",
      "|[Turyshev, Slava G.]|[627200, 526851, ...|         2000|496291|[477367, 475493, ...|The Apparent anom...|\n",
      "|         [Hello, P.]|[560624, 534825, ...|         2000|496425|[221376, 325795, ...|Triggers for the ...|\n",
      "|[Esposito-Farese,...|[1645217, 553891,...|         2000|496747|[396672, 446080, ...|Comparing solar s...|\n",
      "|      [Nelemans, G.]|[523601, 722695, ...|         2000|496874|[312824, 331121, ...|Gravitational wav...|\n",
      "|[Kopeikin, Sergei...|[657004, 520429, ...|         2000|496972|[466971, 44741, 3...|Timing effects of...|\n",
      "|   [Grishchuk, L.P.]|[511331, 531813, ...|         2000|497092|[272672, 38115, 4...|On the detectabil...|\n",
      "|[Alvarez-Gaume, L...|[501158, 616231, ...|         2001|497227|[62336, 18369, 30...|Direct T violatio...|\n",
      "|[Strumia, Alessan...|[1409935, 884116,...|         2001|497879|[34593, 425540, 1...|Naturalness of su...|\n",
      "|[Antoniadis, Igna...|[620641, 507170, ...|         2000|498007|[416897, 416130, ...|On possible modif...|\n",
      "+--------------------+--------------------+-------------+------+--------------------+--------------------+\n",
      "only showing top 20 rows\n",
      "\n"
     ]
    }
   ],
   "source": [
    "df_conditional = df.filter(df['creation_date'] >= from_year)\n",
    "df_conditional = df_conditional.filter(df_conditional['creation_date'] <= to_year)\n",
    "df_conditional.show()"
   ]
  },
  {
   "cell_type": "code",
   "execution_count": 13,
   "metadata": {},
   "outputs": [
    {
     "data": {
      "text/plain": [
       "38538"
      ]
     },
     "execution_count": 13,
     "metadata": {},
     "output_type": "execute_result"
    }
   ],
   "source": [
    "df_conditional.count()"
   ]
  },
  {
   "cell_type": "code",
   "execution_count": 14,
   "metadata": {},
   "outputs": [
    {
     "name": "stdout",
     "output_type": "stream",
     "text": [
      "+--------------------+------+\n",
      "|           citations| recid|\n",
      "+--------------------+------+\n",
      "|[552878, 623944, ...| 42490|\n",
      "|[825312, 660177, ...| 42492|\n",
      "|[1664417, 750341,...| 42497|\n",
      "|[551736, 636649, ...| 42498|\n",
      "|[1635195, 688045,...| 42499|\n",
      "|            [533188]| 42501|\n",
      "|[603137, 575554, ...| 42505|\n",
      "|[844328, 763385, ...| 42517|\n",
      "|    [817396, 640518]| 42551|\n",
      "|[552962, 611844, ...|163205|\n",
      "|[668137, 541809, ...|444504|\n",
      "|[627200, 526851, ...|496291|\n",
      "|[560624, 534825, ...|496425|\n",
      "|[1645217, 553891,...|496747|\n",
      "|[523601, 722695, ...|496874|\n",
      "|[657004, 520429, ...|496972|\n",
      "|[511331, 531813, ...|497092|\n",
      "|[501158, 616231, ...|497227|\n",
      "|[1409935, 884116,...|497879|\n",
      "|[620641, 507170, ...|498007|\n",
      "+--------------------+------+\n",
      "only showing top 20 rows\n",
      "\n"
     ]
    }
   ],
   "source": [
    "df_tmp = df_conditional.select(df_conditional['citations'], df_conditional['recid'])\n",
    "df_tmp.show()"
   ]
  },
  {
   "cell_type": "markdown",
   "metadata": {},
   "source": [
    "## 10 papers with highest page rank"
   ]
  },
  {
   "cell_type": "code",
   "execution_count": 15,
   "metadata": {},
   "outputs": [
    {
     "name": "stdout",
     "output_type": "stream",
     "text": [
      "+---------+-----+\n",
      "|citations|recid|\n",
      "+---------+-----+\n",
      "|   552878|42490|\n",
      "|   623944|42490|\n",
      "|   524814|42490|\n",
      "|   707823|42490|\n",
      "|   793672|42490|\n",
      "|   759923|42490|\n",
      "|   553524|42490|\n",
      "|   526325|42490|\n",
      "|  1209143|42490|\n",
      "|   748220|42490|\n",
      "|   825312|42492|\n",
      "|   660177|42492|\n",
      "|  1333340|42492|\n",
      "|   856813|42492|\n",
      "|  1664417|42497|\n",
      "|   750341|42497|\n",
      "|   709510|42497|\n",
      "|   682567|42497|\n",
      "|   838344|42497|\n",
      "|   595860|42497|\n",
      "+---------+-----+\n",
      "only showing top 20 rows\n",
      "\n"
     ]
    }
   ],
   "source": [
    "def getPairs(row):\n",
    "    result = []\n",
    "    for p in row['citations']:\n",
    "        result.append((row['recid'],p))\n",
    "    return result\n",
    "df_tmp2 = df_tmp.rdd.flatMap(getPairs)\n",
    "df_tmp2 = df_tmp2.map(lambda x : (x[1], x[0])).toDF((\"citations\", \"recid\"))\n",
    "df_tmp2.show()"
   ]
  },
  {
   "cell_type": "code",
   "execution_count": 16,
   "metadata": {},
   "outputs": [
    {
     "data": {
      "text/html": [
       "<div>\n",
       "<style scoped>\n",
       "    .dataframe tbody tr th:only-of-type {\n",
       "        vertical-align: middle;\n",
       "    }\n",
       "\n",
       "    .dataframe tbody tr th {\n",
       "        vertical-align: top;\n",
       "    }\n",
       "\n",
       "    .dataframe thead th {\n",
       "        text-align: right;\n",
       "    }\n",
       "</style>\n",
       "<table border=\"1\" class=\"dataframe\">\n",
       "  <thead>\n",
       "    <tr style=\"text-align: right;\">\n",
       "      <th></th>\n",
       "      <th>citations</th>\n",
       "      <th>recid</th>\n",
       "    </tr>\n",
       "  </thead>\n",
       "  <tbody>\n",
       "    <tr>\n",
       "      <th>0</th>\n",
       "      <td>552878</td>\n",
       "      <td>42490</td>\n",
       "    </tr>\n",
       "    <tr>\n",
       "      <th>1</th>\n",
       "      <td>623944</td>\n",
       "      <td>42490</td>\n",
       "    </tr>\n",
       "    <tr>\n",
       "      <th>2</th>\n",
       "      <td>524814</td>\n",
       "      <td>42490</td>\n",
       "    </tr>\n",
       "    <tr>\n",
       "      <th>3</th>\n",
       "      <td>707823</td>\n",
       "      <td>42490</td>\n",
       "    </tr>\n",
       "    <tr>\n",
       "      <th>4</th>\n",
       "      <td>793672</td>\n",
       "      <td>42490</td>\n",
       "    </tr>\n",
       "    <tr>\n",
       "      <th>...</th>\n",
       "      <td>...</td>\n",
       "      <td>...</td>\n",
       "    </tr>\n",
       "    <tr>\n",
       "      <th>1509449</th>\n",
       "      <td>1328315</td>\n",
       "      <td>1760627</td>\n",
       "    </tr>\n",
       "    <tr>\n",
       "      <th>1509450</th>\n",
       "      <td>1481946</td>\n",
       "      <td>1760636</td>\n",
       "    </tr>\n",
       "    <tr>\n",
       "      <th>1509451</th>\n",
       "      <td>1620564</td>\n",
       "      <td>1760643</td>\n",
       "    </tr>\n",
       "    <tr>\n",
       "      <th>1509452</th>\n",
       "      <td>1306731</td>\n",
       "      <td>1760645</td>\n",
       "    </tr>\n",
       "    <tr>\n",
       "      <th>1509453</th>\n",
       "      <td>1760806</td>\n",
       "      <td>1760652</td>\n",
       "    </tr>\n",
       "  </tbody>\n",
       "</table>\n",
       "<p>1509454 rows × 2 columns</p>\n",
       "</div>"
      ],
      "text/plain": [
       "         citations    recid\n",
       "0           552878    42490\n",
       "1           623944    42490\n",
       "2           524814    42490\n",
       "3           707823    42490\n",
       "4           793672    42490\n",
       "...            ...      ...\n",
       "1509449    1328315  1760627\n",
       "1509450    1481946  1760636\n",
       "1509451    1620564  1760643\n",
       "1509452    1306731  1760645\n",
       "1509453    1760806  1760652\n",
       "\n",
       "[1509454 rows x 2 columns]"
      ]
     },
     "execution_count": 16,
     "metadata": {},
     "output_type": "execute_result"
    }
   ],
   "source": [
    "pd_df = df_tmp2.toPandas()\n",
    "pd_df"
   ]
  },
  {
   "cell_type": "code",
   "execution_count": 17,
   "metadata": {},
   "outputs": [
    {
     "name": "stdout",
     "output_type": "stream",
     "text": [
      "False\n"
     ]
    }
   ],
   "source": [
    "graph = nx.from_pandas_edgelist(pd_df, 'citations', 'recid')\n",
    "print(nx.is_directed(graph))"
   ]
  },
  {
   "cell_type": "code",
   "execution_count": 18,
   "metadata": {},
   "outputs": [],
   "source": [
    "pr = nx.pagerank(graph, alpha=0.9)\n",
    "# pr"
   ]
  },
  {
   "cell_type": "code",
   "execution_count": 19,
   "metadata": {},
   "outputs": [
    {
     "data": {
      "text/plain": [
       "[(530024, 0.0010789076556183786),\n",
       " (541477, 0.0010351781600662637),\n",
       " (537586, 0.0010227554633589243),\n",
       " (534486, 0.0008838264465870694),\n",
       " (560129, 0.0008116378464611918),\n",
       " (556767, 0.0006907372821515942),\n",
       " (558620, 0.0006459894596109214),\n",
       " (526784, 0.0006398876726576157),\n",
       " (541364, 0.0005786864311297645),\n",
       " (555937, 0.0005601344064497948),\n",
       " (549209, 0.0005555322468012821)]"
      ]
     },
     "execution_count": 19,
     "metadata": {},
     "output_type": "execute_result"
    }
   ],
   "source": [
    "sorted_keys = sorted(pr, key=pr.get, reverse=True)\n",
    "top_10 = []\n",
    "count = 0\n",
    "for r in sorted_keys:\n",
    "    top_10.append((r, pr[r]))\n",
    "    if count == 10:\n",
    "        break\n",
    "    else:\n",
    "        count += 1\n",
    "top_10"
   ]
  },
  {
   "cell_type": "code",
   "execution_count": 20,
   "metadata": {},
   "outputs": [
    {
     "data": {
      "text/plain": [
       "[('Review of particle physics. Particle Data Group',\n",
       "  530024,\n",
       "  0.0010789076556183786),\n",
       " ('The Sloan Digital Sky Survey: Technical Summary',\n",
       "  541477,\n",
       "  0.0010351781600662637),\n",
       " ('HERWIG 6: An Event generator for hadron emission reactions with interfering gluons (including supersymmetric processes)',\n",
       "  537586,\n",
       "  0.0010227554633589243),\n",
       " ('High-energy physics event generation with PYTHIA 6.1',\n",
       "  534486,\n",
       "  0.0008838264465870694),\n",
       " ('The EvtGen particle decay simulation package',\n",
       "  560129,\n",
       "  0.0008116378464611918),\n",
       " ('The BaBar detector', 556767, 0.0006907372821515942),\n",
       " ('Measurement of the rate of $\\\\nu_e+d \\\\to p+p+e^-$ interactions produced by $^8B$ solar neutrinos at the Sudbury Neutrino Observatory',\n",
       "  558620,\n",
       "  0.0006459894596109214),\n",
       " ('4-D gravity on a brane in 5-D Minkowski space',\n",
       "  526784,\n",
       "  0.0006398876726576157),\n",
       " ('The Belle Detector', 541364, 0.0005786864311297645),\n",
       " ('Evidence for neutrino oscillations from the observation of anti-neutrino(electron) appearance in a anti-neutrino(muon) beam',\n",
       "  555937,\n",
       "  0.0005601344064497948),\n",
       " ('Final results from the Hubble Space Telescope key project to measure the Hubble constant',\n",
       "  549209,\n",
       "  0.0005555322468012821)]"
      ]
     },
     "execution_count": 20,
     "metadata": {},
     "output_type": "execute_result"
    }
   ],
   "source": [
    "output = []\n",
    "for item in top_10:\n",
    "    result = df.where(df.recid == item[0]).select(\"title\")\n",
    "    tmp = (result.select(\"title\").rdd.flatMap(list).collect()[0], item[0], item[1])\n",
    "    output.append(tmp)\n",
    "output"
   ]
  },
  {
   "cell_type": "markdown",
   "metadata": {},
   "source": [
    "## 10 most cited papers"
   ]
  },
  {
   "cell_type": "code",
   "execution_count": 21,
   "metadata": {},
   "outputs": [
    {
     "name": "stdout",
     "output_type": "stream",
     "text": [
      "+-------------+------+\n",
      "|citations_Num| recid|\n",
      "+-------------+------+\n",
      "|           10| 42490|\n",
      "|            4| 42492|\n",
      "|            9| 42497|\n",
      "|            3| 42498|\n",
      "|            4| 42499|\n",
      "|            1| 42501|\n",
      "|           18| 42505|\n",
      "|            5| 42517|\n",
      "|            2| 42551|\n",
      "|           95|163205|\n",
      "|            7|444504|\n",
      "|           54|496291|\n",
      "|            4|496425|\n",
      "|            8|496747|\n",
      "|            5|496874|\n",
      "|            4|496972|\n",
      "|            8|497092|\n",
      "|           10|497227|\n",
      "|           29|497879|\n",
      "|           14|498007|\n",
      "+-------------+------+\n",
      "only showing top 20 rows\n",
      "\n"
     ]
    }
   ],
   "source": [
    "def getNumOfCite(row):\n",
    "    return (len(row['citations']),row['recid'])\n",
    "df_tmp3 = df_tmp.rdd.map(getNumOfCite)\n",
    "df_tmp3 = df_tmp3.map(lambda x : (x[0], x[1])).toDF((\"citations_Num\", \"recid\"))\n",
    "df_tmp3.show()"
   ]
  },
  {
   "cell_type": "code",
   "execution_count": 22,
   "metadata": {},
   "outputs": [
    {
     "data": {
      "text/plain": [
       "[Row(citations_Num=4602, recid=541477),\n",
       " Row(citations_Num=4023, recid=530024),\n",
       " Row(citations_Num=3386, recid=537586),\n",
       " Row(citations_Num=3167, recid=534486),\n",
       " Row(citations_Num=2804, recid=558620),\n",
       " Row(citations_Num=2801, recid=526784),\n",
       " Row(citations_Num=2515, recid=560129),\n",
       " Row(citations_Num=2401, recid=549209),\n",
       " Row(citations_Num=2275, recid=546156),\n",
       " Row(citations_Num=2231, recid=556767)]"
      ]
     },
     "execution_count": 22,
     "metadata": {},
     "output_type": "execute_result"
    }
   ],
   "source": [
    "sorted_based_on_cite = df_tmp3.sort(df_tmp3.citations_Num.desc()).collect()\n",
    "top_10_cited = sorted_based_on_cite[0:10]\n",
    "top_10_cited"
   ]
  },
  {
   "cell_type": "code",
   "execution_count": 23,
   "metadata": {},
   "outputs": [
    {
     "data": {
      "text/plain": [
       "[('The Sloan Digital Sky Survey: Technical Summary', 541477, 4602),\n",
       " ('Review of particle physics. Particle Data Group', 530024, 4023),\n",
       " ('HERWIG 6: An Event generator for hadron emission reactions with interfering gluons (including supersymmetric processes)',\n",
       "  537586,\n",
       "  3386),\n",
       " ('High-energy physics event generation with PYTHIA 6.1', 534486, 3167),\n",
       " ('Measurement of the rate of $\\\\nu_e+d \\\\to p+p+e^-$ interactions produced by $^8B$ solar neutrinos at the Sudbury Neutrino Observatory',\n",
       "  558620,\n",
       "  2804),\n",
       " ('4-D gravity on a brane in 5-D Minkowski space', 526784, 2801),\n",
       " ('The EvtGen particle decay simulation package', 560129, 2515),\n",
       " ('Final results from the Hubble Space Telescope key project to measure the Hubble constant',\n",
       "  549209,\n",
       "  2401),\n",
       " ('A Fundamental relation between supermassive black holes and their host galaxies',\n",
       "  546156,\n",
       "  2275),\n",
       " ('The BaBar detector', 556767, 2231)]"
      ]
     },
     "execution_count": 23,
     "metadata": {},
     "output_type": "execute_result"
    }
   ],
   "source": [
    "top_10_cited[0][1]\n",
    "most_cite_output = []\n",
    "for i in range(10):\n",
    "    result = df.where(df.recid == top_10_cited[i][1]).select(\"title\")\n",
    "    tmp = (result.select(\"title\").rdd.flatMap(list).collect()[0], top_10_cited[i][1], top_10_cited[i][0])\n",
    "    most_cite_output.append(tmp)\n",
    "most_cite_output"
   ]
  },
  {
   "cell_type": "code",
   "execution_count": null,
   "metadata": {},
   "outputs": [],
   "source": []
  }
 ],
 "metadata": {
  "kernelspec": {
   "display_name": "Python 3",
   "language": "python",
   "name": "python3"
  },
  "language_info": {
   "codemirror_mode": {
    "name": "ipython",
    "version": 3
   },
   "file_extension": ".py",
   "mimetype": "text/x-python",
   "name": "python",
   "nbconvert_exporter": "python",
   "pygments_lexer": "ipython3",
   "version": "3.6.9"
  }
 },
 "nbformat": 4,
 "nbformat_minor": 4
}